{
 "cells": [
  {
   "cell_type": "markdown",
   "metadata": {},
   "source": [
    "# Basic Programming Constructs\n",
    "\n",
    "As part of this module we will see basic programming constructs in Python.\n",
    "\n",
    "* Getting Help\n",
    "* Overview of Jupyter Notebook\n",
    "* Variables and Objects\n",
    "* Data Types - Commonly used\n",
    "* Operators in Python\n",
    "* Formatting Strings\n",
    "* Conditionals\n",
    "* All about for loops\n",
    "* Running OS Commands"
   ]
  },
  {
   "cell_type": "markdown",
   "metadata": {},
   "source": [
    "## Getting Help\n",
    "\n",
    "We have already seen how to get help earlier.\n",
    "\n",
    "* We can get help either in Python CLI or Jupyter Notebook.\n",
    "* Help can be launched by calling help()\n",
    "* It will launch CLI and we can enter a class name or function name.\n",
    "* We can hit ctrl+c to come out of help\n",
    "* We can also get help on a class or function by passing them to help function interactively.\n",
    "* We will be able to get help by passing objects as well. In cases like str it will try to get the help on the value of variable.\n"
   ]
  },
  {
   "cell_type": "markdown",
   "metadata": {},
   "source": [
    "### Tasks\n",
    "\n",
    "Here are some of the tasks we can perform to understand help better.\n",
    "* Launch help\n",
    "* Get help for str\n",
    "* Get help for str.lstrip function\n",
    "* Exit from help\n",
    "* Get help on str and str.lstrip directly\n",
    "* Create an integer object i=0 and get help by passing the object."
   ]
  },
  {
   "cell_type": "markdown",
   "metadata": {},
   "source": [
    "## Overview of Jupyter Notebook\n",
    "\n",
    "Let us understand how we can create Jupyter Notebook using Jupyter Lab.\n",
    "\n",
    "* Relationship between Jupyter Notebook and iPython\n",
    "* Naming Standards\n",
    "* Managing Cells\n",
    "* Cell Types\n",
    "* Getting help using Jupyter Cells"
   ]
  },
  {
   "cell_type": "markdown",
   "metadata": {},
   "source": [
    "### Tasks\n",
    "\n",
    "Let's perform tasks to understand Jupyter Notebook environment better.\n",
    "\n",
    "* Create Jupyter Notebook by name **Getting Started**\n",
    "* Get help on `python_version` as part of the cell\n",
    "* Create cell and write the code to get the version of Python.\n",
    "```\n",
    "from platform import python_version\n",
    "print(python_version())\n",
    "```"
   ]
  },
  {
   "cell_type": "markdown",
   "metadata": {},
   "source": [
    "## Variables and Objects\n",
    "\n",
    "In Python we need not define data types for variables or objects.\n",
    "* Data types are inherited based up on the values assigned to the variables.\n",
    "* We can check the type of the variable or object using `type` function.\n",
    "* Python is interpreter based programming language which means it does not go through compilation and hence data types are not validated until run time.\n",
    "* Python variables or objects are dynamically typed. In case of compiler based programming languages such as Java, Scala etc variables or objects are statically typed.\n",
    "* We can specify data types for variables or objects starting from Python 3. However it is only informational and does not enforce."
   ]
  },
  {
   "cell_type": "code",
   "execution_count": 1,
   "metadata": {},
   "outputs": [],
   "source": [
    "i = 0"
   ]
  },
  {
   "cell_type": "code",
   "execution_count": 2,
   "metadata": {},
   "outputs": [
    {
     "data": {
      "text/plain": [
       "int"
      ]
     },
     "execution_count": 2,
     "metadata": {},
     "output_type": "execute_result"
    }
   ],
   "source": [
    "type(i)"
   ]
  },
  {
   "cell_type": "code",
   "execution_count": 3,
   "metadata": {},
   "outputs": [
    {
     "data": {
      "text/plain": [
       "True"
      ]
     },
     "execution_count": 3,
     "metadata": {},
     "output_type": "execute_result"
    }
   ],
   "source": [
    "type(i) == int"
   ]
  },
  {
   "cell_type": "code",
   "execution_count": 4,
   "metadata": {},
   "outputs": [],
   "source": [
    "j: int = 10 # You can specify data type starting from Python 3\n",
    "j = 'Hello'"
   ]
  },
  {
   "cell_type": "code",
   "execution_count": 5,
   "metadata": {},
   "outputs": [
    {
     "name": "stdout",
     "output_type": "stream",
     "text": [
      "Hello\n"
     ]
    }
   ],
   "source": [
    "print(j)"
   ]
  },
  {
   "cell_type": "code",
   "execution_count": 8,
   "metadata": {},
   "outputs": [
    {
     "data": {
      "text/plain": [
       "str"
      ]
     },
     "execution_count": 8,
     "metadata": {},
     "output_type": "execute_result"
    }
   ],
   "source": [
    "type(j)"
   ]
  },
  {
   "cell_type": "code",
   "execution_count": 9,
   "metadata": {},
   "outputs": [
    {
     "data": {
      "text/plain": [
       "True"
      ]
     },
     "execution_count": 9,
     "metadata": {},
     "output_type": "execute_result"
    }
   ],
   "source": [
    "type(j) == str"
   ]
  },
  {
   "cell_type": "code",
   "execution_count": 11,
   "metadata": {},
   "outputs": [],
   "source": [
    "j: int = 'hello'"
   ]
  },
  {
   "cell_type": "code",
   "execution_count": 12,
   "metadata": {},
   "outputs": [
    {
     "data": {
      "text/plain": [
       "str"
      ]
     },
     "execution_count": 12,
     "metadata": {},
     "output_type": "execute_result"
    }
   ],
   "source": [
    "type(j)"
   ]
  },
  {
   "cell_type": "code",
   "execution_count": 13,
   "metadata": {},
   "outputs": [
    {
     "name": "stdout",
     "output_type": "stream",
     "text": [
      "total 3464\n",
      "-rw-r--r--  1 monikamendiratta  staff    23135 May  7 17:29 03 All about Functions.ipynb\n",
      "-rw-r--r--  1 monikamendiratta  staff    77475 May  7 17:29 04 Collections and Tuples.ipynb\n",
      "-rw-r--r--  1 monikamendiratta  staff    24411 May  7 17:29 05 Processing Collections using Loops.ipynb\n",
      "-rw-r--r--  1 monikamendiratta  staff     6303 May  7 17:29 06 Development of Map Reduce APIs.ipynb\n",
      "-rw-r--r--  1 monikamendiratta  staff    21400 May  7 17:29 07 Data Processing using Pandas.ipynb\n",
      "-rw-r--r--  1 monikamendiratta  staff     1099 May  7 17:29 08 Data Visualization.ipynb\n",
      "-rw-r--r--  1 monikamendiratta  staff  1556838 May  7 17:29 09 Database Programming.ipynb\n",
      "-rw-r--r--  1 monikamendiratta  staff    24587 May  7 17:34 01 Getting Started.ipynb\n",
      "-rw-r--r--  1 monikamendiratta  staff    19755 May  7 18:19 02 Basic Programming Constructs.ipynb\n"
     ]
    }
   ],
   "source": [
    "%%sh\n",
    "ls -ltr"
   ]
  },
  {
   "cell_type": "code",
   "execution_count": 14,
   "metadata": {},
   "outputs": [
    {
     "data": {
      "text/plain": [
       "float"
      ]
     },
     "execution_count": 14,
     "metadata": {},
     "output_type": "execute_result"
    }
   ],
   "source": [
    "j = 200.0\n",
    "type(j)"
   ]
  },
  {
   "cell_type": "markdown",
   "metadata": {},
   "source": [
    "## Data Types - Commonly used\n",
    "Python has several data types which are commonly used. There are advanced data types such as Data Frames as part of modules such as pandas.\n",
    "* Numeric - `int`, `float`, complex\n",
    "* Alpha Numeric - `str`\n",
    "* Collections\n",
    "  * `list`\n",
    "  * `set`\n",
    "  * `dict`\n",
    "* `tuple`\n",
    "* type(VARIABLE_NAME) returns the data type of the variable.\n",
    "* All the data types are nothing but classes.\n",
    "* We can type cast data types by invoking constructor."
   ]
  },
  {
   "cell_type": "code",
   "execution_count": 15,
   "metadata": {},
   "outputs": [
    {
     "data": {
      "text/plain": [
       "int"
      ]
     },
     "execution_count": 15,
     "metadata": {},
     "output_type": "execute_result"
    }
   ],
   "source": [
    "type(int('0'))"
   ]
  },
  {
   "cell_type": "code",
   "execution_count": 17,
   "metadata": {},
   "outputs": [],
   "source": [
    "import datetime"
   ]
  },
  {
   "cell_type": "markdown",
   "metadata": {},
   "source": [
    "## Operators in Python\n",
    "As any programming language Python supports all types of Operations. There are several categories of operators. For now we will cover Arithmetic and Comparison Operators.\n",
    "* Arithmetic Operators\n",
    "  * Addition (+)\n",
    "  * Subtraction (-)\n",
    "  * Multiplication (*)\n",
    "  * Division (/)\n",
    "  * Mod (%) returns reminder\n",
    "  * `+` is also used for concatenation of strings. \n",
    "* Comparison Operators - typically return boolean value (True or False)\n",
    "  * Equals (==)\n",
    "  * Not Equals (!=)\n",
    "  * Negation (! before expression)\n",
    "  * Greater Than (>)\n",
    "  * Less Than (<)\n",
    "  * Greater Than or Equals To (>=)\n",
    "  * Less Than or Equals To (<=)"
   ]
  },
  {
   "cell_type": "markdown",
   "metadata": {},
   "source": [
    "### Tasks or Exercises\n",
    "Let us perform some tasks to understand more about Python Data Types.\n",
    "* Create variables or objects of int, float.\n",
    "* Create 2 variables i1 and i2 with values 10 and 20 respectively. Add the variables and assign the result to res_i. Check the type of res_i."
   ]
  },
  {
   "cell_type": "code",
   "execution_count": 18,
   "metadata": {},
   "outputs": [],
   "source": [
    "i1 = 10\n",
    "i2 = 20"
   ]
  },
  {
   "cell_type": "code",
   "execution_count": 19,
   "metadata": {},
   "outputs": [],
   "source": [
    "res_i = i1 + i2"
   ]
  },
  {
   "cell_type": "code",
   "execution_count": 20,
   "metadata": {},
   "outputs": [
    {
     "name": "stdout",
     "output_type": "stream",
     "text": [
      "30\n"
     ]
    }
   ],
   "source": [
    "print(res_i)"
   ]
  },
  {
   "cell_type": "code",
   "execution_count": 21,
   "metadata": {},
   "outputs": [
    {
     "data": {
      "text/plain": [
       "int"
      ]
     },
     "execution_count": 21,
     "metadata": {},
     "output_type": "execute_result"
    }
   ],
   "source": [
    "type(res_i)"
   ]
  },
  {
   "cell_type": "markdown",
   "metadata": {},
   "source": [
    "* Create 2 variables f1 and f2 with values 10.5 and 15.6 respectively. Add the variables and assign the result to res_f. Check the type of f1, f2 and res_f."
   ]
  },
  {
   "cell_type": "code",
   "execution_count": 22,
   "metadata": {},
   "outputs": [],
   "source": [
    "f1 = 10.5\n",
    "f2 = 15.6\n",
    "res_f = f1 + f2"
   ]
  },
  {
   "cell_type": "code",
   "execution_count": 23,
   "metadata": {},
   "outputs": [
    {
     "name": "stdout",
     "output_type": "stream",
     "text": [
      "26.1\n"
     ]
    }
   ],
   "source": [
    "print(res_f)"
   ]
  },
  {
   "cell_type": "code",
   "execution_count": 24,
   "metadata": {},
   "outputs": [
    {
     "data": {
      "text/plain": [
       "float"
      ]
     },
     "execution_count": 24,
     "metadata": {},
     "output_type": "execute_result"
    }
   ],
   "source": [
    "type(f1)"
   ]
  },
  {
   "cell_type": "code",
   "execution_count": null,
   "metadata": {},
   "outputs": [],
   "source": [
    "type(res_f)"
   ]
  },
  {
   "cell_type": "markdown",
   "metadata": {},
   "source": [
    "* Create 2 variables v1 and v2 with values 4 and 10.0 respectively. Add the variables and assign the result to res_v. Check the type of v1, v2 and res_v."
   ]
  },
  {
   "cell_type": "code",
   "execution_count": 26,
   "metadata": {},
   "outputs": [],
   "source": [
    "v1 = 4\n",
    "v2 = 10.0\n",
    "res_v = v1 + v2"
   ]
  },
  {
   "cell_type": "code",
   "execution_count": 27,
   "metadata": {},
   "outputs": [
    {
     "name": "stdout",
     "output_type": "stream",
     "text": [
      "14.0\n"
     ]
    }
   ],
   "source": [
    "print(res_v)"
   ]
  },
  {
   "cell_type": "code",
   "execution_count": 28,
   "metadata": {},
   "outputs": [
    {
     "data": {
      "text/plain": [
       "float"
      ]
     },
     "execution_count": 28,
     "metadata": {},
     "output_type": "execute_result"
    }
   ],
   "source": [
    "type(res_v)"
   ]
  },
  {
   "cell_type": "code",
   "execution_count": 33,
   "metadata": {},
   "outputs": [
    {
     "name": "stdout",
     "output_type": "stream",
     "text": [
      "30.299999999999997\n",
      "10.120.2\n"
     ]
    }
   ],
   "source": [
    "# question from the class\n",
    "f1 = 10.1\n",
    "f2 = '20.2'\n",
    "res_f = f1 + float(f2) \n",
    "res_s = str(f1) + f2\n",
    "#res_f = f1 + f2\n",
    "# throws operand related to error as there is no overloaded function + \n",
    "# between float and string\n",
    "print(res_f)\n",
    "print(res_s)"
   ]
  },
  {
   "cell_type": "markdown",
   "metadata": {},
   "source": [
    "* Create object or variable s of type string for value Hello World and print on the screen. Check the type of s."
   ]
  },
  {
   "cell_type": "code",
   "execution_count": 34,
   "metadata": {},
   "outputs": [
    {
     "name": "stdout",
     "output_type": "stream",
     "text": [
      "Hello 'World'\n"
     ]
    }
   ],
   "source": [
    "s = \"Hello 'World'\"\n",
    "print(s)"
   ]
  },
  {
   "cell_type": "markdown",
   "metadata": {},
   "source": [
    "* Create 2 string objects s1 and s2 with values Hello and World respectively and concatenate with space between them."
   ]
  },
  {
   "cell_type": "code",
   "execution_count": 38,
   "metadata": {},
   "outputs": [
    {
     "name": "stdout",
     "output_type": "stream",
     "text": [
      "Hello World\n",
      "Hello World\n"
     ]
    }
   ],
   "source": [
    "s1 = 'Hello'\n",
    "s2 = 'World'\n",
    "print(s1 + ' ' + s2)\n",
    "print(f'{s1} {s2}')"
   ]
  },
  {
   "cell_type": "code",
   "execution_count": 41,
   "metadata": {},
   "outputs": [
    {
     "name": "stdout",
     "output_type": "stream",
     "text": [
      "HelloWorld\n"
     ]
    }
   ],
   "source": [
    "print(s1 + s2)"
   ]
  },
  {
   "cell_type": "code",
   "execution_count": 37,
   "metadata": {},
   "outputs": [
    {
     "ename": "NameError",
     "evalue": "name 's1' is not defined",
     "output_type": "error",
     "traceback": [
      "\u001b[0;31m---------------------------------------------------------------------------\u001b[0m",
      "\u001b[0;31mNameError\u001b[0m                                 Traceback (most recent call last)",
      "\u001b[0;32m<ipython-input-37-cd30aef31d28>\u001b[0m in \u001b[0;36m<module>\u001b[0;34m\u001b[0m\n\u001b[0;32m----> 1\u001b[0;31m \u001b[0mprint\u001b[0m\u001b[0;34m(\u001b[0m\u001b[0;34mf'{s1} {s2}'\u001b[0m\u001b[0;34m)\u001b[0m\u001b[0;34m\u001b[0m\u001b[0;34m\u001b[0m\u001b[0m\n\u001b[0m",
      "\u001b[0;31mNameError\u001b[0m: name 's1' is not defined"
     ]
    }
   ],
   "source": [
    "print(f'{s1} {s2}')"
   ]
  },
  {
   "cell_type": "code",
   "execution_count": 35,
   "metadata": {},
   "outputs": [
    {
     "name": "stdout",
     "output_type": "stream",
     "text": [
      "Hello 1\n"
     ]
    }
   ],
   "source": [
    "s = '{s3} {s4}'\n",
    "s3 = 'Hello'\n",
    "s4 = 1\n",
    "print(s.format(s3=s3, s4=s4))"
   ]
  },
  {
   "cell_type": "code",
   "execution_count": 39,
   "metadata": {},
   "outputs": [
    {
     "name": "stdout",
     "output_type": "stream",
     "text": [
      "The result is Hello 1\n"
     ]
    }
   ],
   "source": [
    "print('The result is {} {}'.format(s3,s4))"
   ]
  },
  {
   "cell_type": "markdown",
   "metadata": {},
   "source": [
    "* Compare whether i1 and i2 are equal and assign it to a variable res_e, then check the type of it."
   ]
  },
  {
   "cell_type": "code",
   "execution_count": null,
   "metadata": {},
   "outputs": [],
   "source": [
    "i1 = 10\n",
    "i2 = 20"
   ]
  },
  {
   "cell_type": "code",
   "execution_count": 44,
   "metadata": {},
   "outputs": [],
   "source": [
    "#res_e = i1 < i2\n",
    "res_e = i1 == i2\n",
    "# Feel free to try other operations"
   ]
  },
  {
   "cell_type": "code",
   "execution_count": 45,
   "metadata": {},
   "outputs": [
    {
     "name": "stdout",
     "output_type": "stream",
     "text": [
      "False\n"
     ]
    }
   ],
   "source": [
    "print(res_e)"
   ]
  },
  {
   "cell_type": "code",
   "execution_count": null,
   "metadata": {},
   "outputs": [],
   "source": [
    "type(res_e)"
   ]
  },
  {
   "cell_type": "markdown",
   "metadata": {},
   "source": [
    "## Formatting Strings\n",
    "\n",
    "Let us understand how we can define strings in Python.\n",
    "* We can either use double quotes or single quotes.\n",
    "* We can enclose strings with quotes with triple single/double quotes\n",
    "* We can have variables in strings which can be replaced using formatting."
   ]
  },
  {
   "cell_type": "code",
   "execution_count": null,
   "metadata": {},
   "outputs": [],
   "source": [
    "print('Hello World')"
   ]
  },
  {
   "cell_type": "code",
   "execution_count": null,
   "metadata": {},
   "outputs": [],
   "source": [
    "print(\"Hello World\")"
   ]
  },
  {
   "cell_type": "code",
   "execution_count": null,
   "metadata": {},
   "outputs": [],
   "source": [
    "print(\"Hello World from 'itversity'\")"
   ]
  },
  {
   "cell_type": "code",
   "execution_count": null,
   "metadata": {},
   "outputs": [],
   "source": [
    "print('Hello World from \"itversity\"')"
   ]
  },
  {
   "cell_type": "code",
   "execution_count": 46,
   "metadata": {},
   "outputs": [
    {
     "name": "stdout",
     "output_type": "stream",
     "text": [
      "Hello World from 'itversity'\n"
     ]
    }
   ],
   "source": [
    "print(\"\"\"Hello World from 'itversity'\"\"\")"
   ]
  },
  {
   "cell_type": "code",
   "execution_count": 47,
   "metadata": {},
   "outputs": [
    {
     "name": "stdout",
     "output_type": "stream",
     "text": [
      "Hello World from \"itversity\" \n"
     ]
    }
   ],
   "source": [
    "print(\"\"\"Hello World from \"itversity\" \"\"\")"
   ]
  },
  {
   "cell_type": "code",
   "execution_count": 48,
   "metadata": {},
   "outputs": [
    {
     "name": "stdout",
     "output_type": "stream",
     "text": [
      "Hello World from itversity\n"
     ]
    }
   ],
   "source": [
    "var1 = 'World'\n",
    "var2 = 'itversity'\n",
    "print(f'Hello {var1} from {var2}')"
   ]
  },
  {
   "cell_type": "code",
   "execution_count": null,
   "metadata": {},
   "outputs": [],
   "source": [
    "print(f'Hello {var1} from {var2}'.format(var1='world', var2='itversity'))"
   ]
  },
  {
   "cell_type": "code",
   "execution_count": 53,
   "metadata": {},
   "outputs": [
    {
     "name": "stdout",
     "output_type": "stream",
     "text": [
      "True\n"
     ]
    }
   ],
   "source": [
    "i1=20\n",
    "i2='hello'\n",
    "res=str(i1) < i2\n",
    "#compares based on the ascii\n",
    "#ascii value of parallel chars n then proceeds\n",
    "\n",
    "i1='11'\n",
    "i2='2'\n",
    "res=str(i1) < i2\n",
    "#compares based on the ascii\n",
    "#ascii value of parallel chars n then proceeds\n",
    "\n",
    "print(res)"
   ]
  },
  {
   "cell_type": "markdown",
   "metadata": {},
   "source": [
    "## Conditionals\n",
    "Let us go through conditionals in Python. We typically use “if else” for conditionals. Let us perform a few tasks to understand how conditionals are developed.\n",
    "\n",
    "* Create a variable i with 5. Write a conditional to print whether i  is even or odd.\n"
   ]
  },
  {
   "cell_type": "code",
   "execution_count": null,
   "metadata": {},
   "outputs": [],
   "source": [
    "#IN JAVA YOU MAY OR MAY NOT INDENT WITH A TAB\n",
    "# if(i == 0) {\n",
    "# dsdads\n",
    "# dsdasds\n",
    "#}\n",
    "#IN PYTHON\n",
    "# THE SPECIFICATION IS DEFINED WITH A COLON IN END e.g. if i % 2 == 0: EVEN A FUNCTION SPEC ENDS IN A COLON\n",
    "# THE SCOPE IS DEFINED BY INDENTATION e.g. \n",
    "#if i % 2 == 0:\n",
    "#<tab>print(\"even\")\n",
    "#IF YOU INDENT WITH <TAB> THEN FOR EACH SCOPE AND EVERY NESTED SCOPE YOU INDENT WITH TAB ONLY"
   ]
  },
  {
   "cell_type": "code",
   "execution_count": 57,
   "metadata": {},
   "outputs": [],
   "source": [
    "i = 5"
   ]
  },
  {
   "cell_type": "code",
   "execution_count": 58,
   "metadata": {},
   "outputs": [
    {
     "name": "stdout",
     "output_type": "stream",
     "text": [
      "odd\n"
     ]
    }
   ],
   "source": [
    "# Regular if else\n",
    "if i % 2 == 0:\n",
    "    print(\"even\")\n",
    "else:\n",
    "    print(\"odd\")"
   ]
  },
  {
   "cell_type": "code",
   "execution_count": 59,
   "metadata": {},
   "outputs": [],
   "source": [
    "# cond ? on_true : on_false in C ternary operator behave like this"
   ]
  },
  {
   "cell_type": "code",
   "execution_count": 60,
   "metadata": {},
   "outputs": [],
   "source": [
    "# in python\n",
    "# on_true cond else on_false"
   ]
  },
  {
   "cell_type": "code",
   "execution_count": 61,
   "metadata": {},
   "outputs": [
    {
     "name": "stdout",
     "output_type": "stream",
     "text": [
      "odd\n"
     ]
    }
   ],
   "source": [
    "# Ternary Operator (one liner)\n",
    "print(\"even\") if i % 2 == 0 else print(\"odd\")"
   ]
  },
  {
   "cell_type": "markdown",
   "metadata": {},
   "source": [
    "* Improvise it to check if i is 0 and print zero"
   ]
  },
  {
   "cell_type": "code",
   "execution_count": 64,
   "metadata": {},
   "outputs": [],
   "source": [
    "i = 4"
   ]
  },
  {
   "cell_type": "code",
   "execution_count": 66,
   "metadata": {},
   "outputs": [
    {
     "name": "stdout",
     "output_type": "stream",
     "text": [
      "even\n"
     ]
    }
   ],
   "source": [
    "# : IS CONCLUSION OF CONDITION\n",
    "if i == 0 : \n",
    "    print(\"zero\") #IF U WANT TO PRINT ONE MORE AFTER THIS U USE SAME INDENTATION\n",
    "elif i % 2 == 0 :\n",
    "    print(\"even\")\n",
    "else :\n",
    "    print(\"odd\")"
   ]
  },
  {
   "cell_type": "markdown",
   "metadata": {},
   "source": [
    "## All about for Loops\n",
    "\n",
    "Let us perform a few tasks to understand loops.\n",
    "* Go through range between 2 integers (5 and 10) and print them. We can use range function to get range between two integers."
   ]
  },
  {
   "cell_type": "code",
   "execution_count": null,
   "metadata": {},
   "outputs": [],
   "source": [
    "#range(5,11) #a range of numbers between 5 to 11 excluding the upper limit i.e. 11 here.\n",
    "#why it is excluding the upper limit because when it comes to indexing starts with 0"
   ]
  },
  {
   "cell_type": "code",
   "execution_count": 2,
   "metadata": {},
   "outputs": [
    {
     "data": {
      "text/plain": [
       "\u001b[0;31mInit signature:\u001b[0m \u001b[0mrange\u001b[0m\u001b[0;34m(\u001b[0m\u001b[0mself\u001b[0m\u001b[0;34m,\u001b[0m \u001b[0;34m/\u001b[0m\u001b[0;34m,\u001b[0m \u001b[0;34m*\u001b[0m\u001b[0margs\u001b[0m\u001b[0;34m,\u001b[0m \u001b[0;34m**\u001b[0m\u001b[0mkwargs\u001b[0m\u001b[0;34m)\u001b[0m\u001b[0;34m\u001b[0m\u001b[0;34m\u001b[0m\u001b[0m\n",
       "\u001b[0;31mDocstring:\u001b[0m     \n",
       "range(stop) -> range object\n",
       "range(start, stop[, step]) -> range object\n",
       "\n",
       "Return an object that produces a sequence of integers from start (inclusive)\n",
       "to stop (exclusive) by step.  range(i, j) produces i, i+1, i+2, ..., j-1.\n",
       "start defaults to 0, and stop is omitted!  range(4) produces 0, 1, 2, 3.\n",
       "These are exactly the valid indices for a list of 4 elements.\n",
       "When step is given, it specifies the increment (or decrement).\n",
       "\u001b[0;31mType:\u001b[0m           type\n",
       "\u001b[0;31mSubclasses:\u001b[0m     \n"
      ]
     },
     "metadata": {},
     "output_type": "display_data"
    }
   ],
   "source": [
    "range?"
   ]
  },
  {
   "cell_type": "code",
   "execution_count": 1,
   "metadata": {},
   "outputs": [
    {
     "name": "stdout",
     "output_type": "stream",
     "text": [
      "5\n",
      "6\n",
      "7\n",
      "8\n",
      "9\n",
      "10\n",
      "5\n",
      "6\n",
      "7\n",
      "8\n",
      "9\n",
      "10\n"
     ]
    }
   ],
   "source": [
    "for i in range(5, 11): print(i)\n",
    "for i in range(5, 11, 1): print(i)"
   ]
  },
  {
   "cell_type": "code",
   "execution_count": 25,
   "metadata": {},
   "outputs": [
    {
     "name": "stdout",
     "output_type": "stream",
     "text": [
      "5\n",
      "7\n",
      "9\n"
     ]
    }
   ],
   "source": [
    "for i in range(5, 11, 2): print(i)"
   ]
  },
  {
   "cell_type": "markdown",
   "metadata": {},
   "source": [
    "* Create a list of 7 elements and print alternate numbers starting from 1.\n",
    "`[1, 6, 8, 3, 7, 2, 9]`\n",
    "* In this example we are using list. It will be covered extensively at a later point in time. `list` is one of the core Python Data Structures."
   ]
  },
  {
   "cell_type": "code",
   "execution_count": null,
   "metadata": {},
   "outputs": [],
   "source": [
    "#l = [1, 6, 8, 3, 7, 2, 9]\n",
    "#for k in range ()"
   ]
  },
  {
   "cell_type": "code",
   "execution_count": 73,
   "metadata": {},
   "outputs": [
    {
     "name": "stdout",
     "output_type": "stream",
     "text": [
      "1\n",
      "8\n",
      "7\n",
      "9\n"
     ]
    }
   ],
   "source": [
    "l = [1, 6, 8, 3, 7, 2, 9]\n",
    "\n",
    "num_pos = 0 #index\n",
    "for i in l:\n",
    "    if num_pos % 2 == 0: # checking if index is even or not\n",
    "        print(i)\n",
    "    num_pos += 1 # incrementing cnt by 1"
   ]
  },
  {
   "cell_type": "markdown",
   "metadata": {},
   "source": [
    "* Go through range between 2 integers (5 and 15) and print even numbers."
   ]
  },
  {
   "cell_type": "code",
   "execution_count": 18,
   "metadata": {},
   "outputs": [
    {
     "name": "stdout",
     "output_type": "stream",
     "text": [
      "6\n",
      "8\n",
      "10\n",
      "12\n",
      "14\n"
     ]
    }
   ],
   "source": [
    "for i in range(5, 16): \n",
    "    if i % 2 == 0:\n",
    "        print(i)"
   ]
  },
  {
   "cell_type": "markdown",
   "metadata": {},
   "source": [
    "* Iterate through a list of months and print them."
   ]
  },
  {
   "cell_type": "code",
   "execution_count": 23,
   "metadata": {},
   "outputs": [
    {
     "name": "stdout",
     "output_type": "stream",
     "text": [
      "1 jan\n",
      "2 feb\n",
      "3 mar\n",
      "4 apr\n",
      "5 may\n",
      "6 jun\n",
      "7 jul\n",
      "8 aug\n",
      "9 sep\n",
      "10 oct\n",
      "11 nov\n",
      "12 dec\n"
     ]
    }
   ],
   "source": [
    "mnth = [\"jan\", \"feb\", \"mar\", \"apr\", \"may\", \"jun\", \"jul\", \"aug\", \"sep\", \"oct\", \"nov\", \"dec\"]\n",
    "\n",
    "j = 1\n",
    "for m in mnth:\n",
    "    print(str(j) + \" \" + m)\n",
    "    j +=1"
   ]
  },
  {
   "cell_type": "markdown",
   "metadata": {},
   "source": [
    "## Running OS Commands\n",
    "\n",
    "Let us understand how to run OS commands using Python.\n",
    "* Python provides a library called as `os` which can be used to run OS commands.\n",
    "* We can import and start using it.\n",
    "* There are bunch of commands to create directories, change ownership, change permission, run general system commands etc.\n",
    "* `os` library is extensively used to read environment variables at run time of the application. It is used to pass keys and credentials to work with databases, external applications etc.\n",
    "* Typically keys and credentials should not be part of the source code."
   ]
  },
  {
   "cell_type": "code",
   "execution_count": 4,
   "metadata": {},
   "outputs": [],
   "source": [
    "import os"
   ]
  },
  {
   "cell_type": "markdown",
   "metadata": {},
   "source": [
    "* Get current working directory."
   ]
  },
  {
   "cell_type": "code",
   "execution_count": 75,
   "metadata": {},
   "outputs": [
    {
     "data": {
      "text/plain": [
       "'/Users/monikamendiratta/itversity-books/Data Engineering Bootcamp/30 Basics of Programming using Python'"
      ]
     },
     "execution_count": 75,
     "metadata": {},
     "output_type": "execute_result"
    }
   ],
   "source": [
    "os.getcwd()"
   ]
  },
  {
   "cell_type": "markdown",
   "metadata": {},
   "source": [
    "* Read environment variables"
   ]
  },
  {
   "cell_type": "code",
   "execution_count": 76,
   "metadata": {},
   "outputs": [
    {
     "data": {
      "text/plain": [
       "'/Users/monikamendiratta/itversity-books/itversity-books-env/bin:/usr/local/bin:/usr/bin:/bin:/usr/sbin:/sbin'"
      ]
     },
     "execution_count": 76,
     "metadata": {},
     "output_type": "execute_result"
    }
   ],
   "source": [
    "os.environ.get('PATH')"
   ]
  },
  {
   "cell_type": "code",
   "execution_count": 78,
   "metadata": {},
   "outputs": [
    {
     "data": {
      "text/plain": [
       "environ{'TMPDIR': '/var/folders/bl/8yvc_qyd3qqc2991myh28k8h0000gn/T/',\n",
       "        'XPC_FLAGS': '0x0',\n",
       "        'TERM_PROGRAM_VERSION': '433',\n",
       "        'LANG': 'en_US.UTF-8',\n",
       "        'TERM_PROGRAM': 'Apple_Terminal',\n",
       "        'XPC_SERVICE_NAME': '0',\n",
       "        'TERM_SESSION_ID': '4FF97749-FDF9-4758-A3F7-99462E53CACE',\n",
       "        'TERM': 'xterm-color',\n",
       "        'SSH_AUTH_SOCK': '/private/tmp/com.apple.launchd.bhFUXr2SH5/Listeners',\n",
       "        'SHELL': '/bin/zsh',\n",
       "        'HOME': '/Users/monikamendiratta',\n",
       "        'LOGNAME': 'monikamendiratta',\n",
       "        'USER': 'monikamendiratta',\n",
       "        'PATH': '/Users/monikamendiratta/itversity-books/itversity-books-env/bin:/usr/local/bin:/usr/bin:/bin:/usr/sbin:/sbin',\n",
       "        'SHLVL': '1',\n",
       "        'PWD': '/Users/monikamendiratta/itversity-books',\n",
       "        'OLDPWD': '/Users/monikamendiratta/itversity-books/itversity-books-env',\n",
       "        'VIRTUAL_ENV': '/Users/monikamendiratta/itversity-books/itversity-books-env',\n",
       "        'PS1': '(itversity-books-env) %n@%m %1~ %# ',\n",
       "        '_': '/Users/monikamendiratta/itversity-books/itversity-books-env/bin/jupyter',\n",
       "        '__CF_USER_TEXT_ENCODING': '0x1F5:0x0:0x0',\n",
       "        '__PYVENV_LAUNCHER__': '/Users/monikamendiratta/itversity-books/itversity-books-env/bin/python3',\n",
       "        'KERNEL_LAUNCH_TIMEOUT': '40',\n",
       "        'JPY_PARENT_PID': '52392',\n",
       "        'CLICOLOR': '1',\n",
       "        'PAGER': 'cat',\n",
       "        'GIT_PAGER': 'cat',\n",
       "        'MPLBACKEND': 'module://ipykernel.pylab.backend_inline'}"
      ]
     },
     "execution_count": 78,
     "metadata": {},
     "output_type": "execute_result"
    }
   ],
   "source": [
    "os.environ # RETURNS ALL THE ENVIRONMENT VARIABLES"
   ]
  },
  {
   "cell_type": "code",
   "execution_count": 77,
   "metadata": {},
   "outputs": [
    {
     "data": {
      "text/plain": [
       "'/Users/monikamendiratta'"
      ]
     },
     "execution_count": 77,
     "metadata": {},
     "output_type": "execute_result"
    }
   ],
   "source": [
    "os.environ.get('HOME')"
   ]
  },
  {
   "cell_type": "markdown",
   "metadata": {},
   "source": [
    "## Exercises\n",
    "\n",
    "Please take care of following exercises.\n",
    "\n",
    "* Get sum of integers for a given range."
   ]
  },
  {
   "cell_type": "code",
   "execution_count": 82,
   "metadata": {},
   "outputs": [],
   "source": [
    "#user input range\n",
    "beg :int = 1\n",
    "end :int = 8"
   ]
  },
  {
   "cell_type": "code",
   "execution_count": 83,
   "metadata": {},
   "outputs": [
    {
     "name": "stdout",
     "output_type": "stream",
     "text": [
      "36\n"
     ]
    }
   ],
   "source": [
    "y :int = 0\n",
    "\n",
    "for x in range (beg,(end+1)):\n",
    "    #find sum\n",
    "    y += x\n",
    "print(y)"
   ]
  },
  {
   "cell_type": "markdown",
   "metadata": {},
   "source": [
    "* Get sum of integers for a given range. using formula n(n+1)/2"
   ]
  },
  {
   "cell_type": "code",
   "execution_count": null,
   "metadata": {},
   "outputs": [],
   "source": []
  },
  {
   "cell_type": "markdown",
   "metadata": {},
   "source": [
    "* Get sum of squares of integers for a given range."
   ]
  },
  {
   "cell_type": "code",
   "execution_count": 84,
   "metadata": {},
   "outputs": [
    {
     "name": "stdout",
     "output_type": "stream",
     "text": [
      "204\n"
     ]
    }
   ],
   "source": [
    "sq :int = 0\n",
    "for i in range (beg,(end+1)):\n",
    "     #find sum of squares of integers\n",
    "    sq += i * i\n",
    "print(sq)"
   ]
  },
  {
   "cell_type": "markdown",
   "metadata": {},
   "source": [
    "* Get sum of even numbers for a given range"
   ]
  },
  {
   "cell_type": "code",
   "execution_count": 85,
   "metadata": {},
   "outputs": [
    {
     "name": "stdout",
     "output_type": "stream",
     "text": [
      "20\n"
     ]
    }
   ],
   "source": [
    "esum :int = 0\n",
    "for e in range (beg,(end+1)):\n",
    "    if e % 2 == 0:\n",
    "        #print(e)\n",
    "        esum += e\n",
    "print(esum)"
   ]
  },
  {
   "cell_type": "code",
   "execution_count": null,
   "metadata": {},
   "outputs": [],
   "source": [
    "#COMPLEXITIES\n",
    "# o(n), o(1), o(log n), o(e**n)\n",
    "# o(1) -> no matter how much data u need to process o(1) it means constant\n",
    "# o(n) -> it is linear progresses linearly\n",
    "# o(log n) -> it is somewhere between 1 to n\n",
    "# o(e**n) -> somewhere between n to infinity"
   ]
  },
  {
   "cell_type": "markdown",
   "metadata": {},
   "source": [
    "* Create a collection using `[1, 6, 8, 3, 7, 2, 9]` and get sum of even numbers. Answer should be 16."
   ]
  },
  {
   "cell_type": "code",
   "execution_count": 75,
   "metadata": {},
   "outputs": [],
   "source": [
    "cl = [1, 6, 8, 3, 7, 2, 9]"
   ]
  },
  {
   "cell_type": "code",
   "execution_count": 76,
   "metadata": {},
   "outputs": [
    {
     "name": "stdout",
     "output_type": "stream",
     "text": [
      "16\n"
     ]
    }
   ],
   "source": [
    "esum :int = 0\n",
    "for i in cl:\n",
    "    if i % 2 == 0:\n",
    "        esum += i\n",
    "print(esum)"
   ]
  },
  {
   "cell_type": "markdown",
   "metadata": {},
   "source": [
    "* Using the same collection get sum of numbers divisible by 3. Answer should be 18."
   ]
  },
  {
   "cell_type": "code",
   "execution_count": 77,
   "metadata": {},
   "outputs": [
    {
     "name": "stdout",
     "output_type": "stream",
     "text": [
      "18\n"
     ]
    }
   ],
   "source": [
    "div3 :int = 0\n",
    "for i in cl:\n",
    "    if i % 3 == 0:\n",
    "        div3 += i\n",
    "print(div3)"
   ]
  },
  {
   "cell_type": "code",
   "execution_count": null,
   "metadata": {},
   "outputs": [],
   "source": []
  }
 ],
 "metadata": {
  "kernelspec": {
   "display_name": "Python 3",
   "language": "python",
   "name": "python3"
  },
  "language_info": {
   "codemirror_mode": {
    "name": "ipython",
    "version": 3
   },
   "file_extension": ".py",
   "mimetype": "text/x-python",
   "name": "python",
   "nbconvert_exporter": "python",
   "pygments_lexer": "ipython3",
   "version": "3.7.7"
  }
 },
 "nbformat": 4,
 "nbformat_minor": 4
}

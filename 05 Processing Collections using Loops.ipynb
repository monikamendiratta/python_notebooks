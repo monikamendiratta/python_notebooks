{
 "cells": [
  {
   "cell_type": "markdown",
   "metadata": {},
   "source": [
    "# Processing Collections using loops\n",
    "As part of this module we will see how to manipulate collections using loops. We typically don’t use loops but this module will help in improving our programming skills.\n",
    "\n",
    "* Reading files into collections\n",
    "* Standard Transformations\n",
    "* Filtering Data\n",
    "* Performing Aggregations\n",
    "* Joining Data Sets\n",
    "* Exercises\n",
    "* Limitations of using Loops"
   ]
  },
  {
   "cell_type": "markdown",
   "metadata": {},
   "source": [
    "## Reading files into collections\n",
    "\n",
    "Let us understand how to read data from files into collections. \n",
    "* Python have simple and yet rich APIs to perform file I/O\n",
    "* We can create a file object with `open` in different modes (by default read only mode)\n",
    "* To read the contents from the file into memory, we have APIs on top of file object such as `read()`\n",
    "* `read()` will create large string using contents of the files\n",
    "* If the data have multiple records with new line character as delimiter, we can apply `splitlines()` on the output of read\n",
    "* `splitlines()` will convert the string into list with new line character as delimiter"
   ]
  },
  {
   "cell_type": "code",
   "execution_count": 1,
   "metadata": {},
   "outputs": [],
   "source": [
    "path = '/Users/monikamendiratta/data/retail_db/orders/part-00000.csv'\n",
    "# C:\\\\users\\\\itversity\\\\Research\n",
    "orders_file = open(path)"
   ]
  },
  {
   "cell_type": "code",
   "execution_count": 2,
   "metadata": {},
   "outputs": [],
   "source": [
    "orders_raw = orders_file.read()"
   ]
  },
  {
   "cell_type": "code",
   "execution_count": 3,
   "metadata": {},
   "outputs": [],
   "source": [
    "orders = orders_raw.splitlines()"
   ]
  },
  {
   "cell_type": "code",
   "execution_count": 4,
   "metadata": {},
   "outputs": [
    {
     "data": {
      "text/plain": [
       "['1,2013-07-25 00:00:00.0,11599,CLOSED',\n",
       " '2,2013-07-25 00:00:00.0,256,PENDING_PAYMENT',\n",
       " '3,2013-07-25 00:00:00.0,12111,COMPLETE',\n",
       " '4,2013-07-25 00:00:00.0,8827,CLOSED',\n",
       " '5,2013-07-25 00:00:00.0,11318,COMPLETE',\n",
       " '6,2013-07-25 00:00:00.0,7130,COMPLETE',\n",
       " '7,2013-07-25 00:00:00.0,4530,COMPLETE',\n",
       " '8,2013-07-25 00:00:00.0,2911,PROCESSING',\n",
       " '9,2013-07-25 00:00:00.0,5657,PENDING_PAYMENT',\n",
       " '10,2013-07-25 00:00:00.0,5648,PENDING_PAYMENT']"
      ]
     },
     "execution_count": 4,
     "metadata": {},
     "output_type": "execute_result"
    }
   ],
   "source": [
    "orders[:10]"
   ]
  },
  {
   "cell_type": "markdown",
   "metadata": {},
   "source": [
    "## Standard Transformations\n",
    "\n",
    "Let us understand standard transformations we perform on top of data in collections.\n",
    "* Filtering\n",
    "* Row level transformations such as standardization, cleansing etc.\n",
    "* Aggregations\n",
    "* Grouped Aggregations\n",
    "* Sorting and Ranking\n",
    "\n",
    "Typically we use external libraries such as Pandas, Pyspark etc to perform these standard transformations. However, we will try to develop using conventional loops to understand how they are implemented and also to get better with respect to programming.\n"
   ]
  },
  {
   "cell_type": "markdown",
   "metadata": {},
   "source": [
    "## Filtering Data\n",
    "Let us perform few tasks to understand how to filter the data in collections using loops and conditionals.\n",
    "\n",
    "* Here are the details about orders.\n",
    "  * Data is in text file format\n",
    "  * Each line in the file contains one record.\n",
    "  * Each record contains 4 attributes which are separated by “,”\n",
    "    * order_id\n",
    "    * order_date\n",
    "    * order_customer_id\n",
    "    * order_status\n",
    "  * Create a function by name **get_customer_orders** which take **orders list** and **customer_id** as arguments and **return all the orders placed by customer_id**\n"
   ]
  },
  {
   "cell_type": "code",
   "execution_count": 5,
   "metadata": {},
   "outputs": [
    {
     "data": {
      "text/plain": [
       "['1,2013-07-25 00:00:00.0,11599,CLOSED',\n",
       " '2,2013-07-25 00:00:00.0,256,PENDING_PAYMENT',\n",
       " '3,2013-07-25 00:00:00.0,12111,COMPLETE',\n",
       " '4,2013-07-25 00:00:00.0,8827,CLOSED',\n",
       " '5,2013-07-25 00:00:00.0,11318,COMPLETE',\n",
       " '6,2013-07-25 00:00:00.0,7130,COMPLETE',\n",
       " '7,2013-07-25 00:00:00.0,4530,COMPLETE',\n",
       " '8,2013-07-25 00:00:00.0,2911,PROCESSING',\n",
       " '9,2013-07-25 00:00:00.0,5657,PENDING_PAYMENT',\n",
       " '10,2013-07-25 00:00:00.0,5648,PENDING_PAYMENT']"
      ]
     },
     "execution_count": 5,
     "metadata": {},
     "output_type": "execute_result"
    }
   ],
   "source": [
    "orders[:10]"
   ]
  },
  {
   "cell_type": "code",
   "execution_count": 6,
   "metadata": {},
   "outputs": [],
   "source": [
    "order = '3,2013-07-25 00:00:00.0,12111,COMPLETE'"
   ]
  },
  {
   "cell_type": "code",
   "execution_count": 7,
   "metadata": {},
   "outputs": [
    {
     "data": {
      "text/plain": [
       "True"
      ]
     },
     "execution_count": 7,
     "metadata": {},
     "output_type": "execute_result"
    }
   ],
   "source": [
    "int(order.split(',')[2]) == 12111"
   ]
  },
  {
   "cell_type": "code",
   "execution_count": 8,
   "metadata": {},
   "outputs": [],
   "source": [
    "#initialize aggregator\n",
    "#iterate\n",
    "#apply the rules\n",
    "#update the aggregator\n",
    "#NOT NEEDED HERE\n",
    "#return aggregator"
   ]
  },
  {
   "cell_type": "code",
   "execution_count": 112,
   "metadata": {},
   "outputs": [],
   "source": [
    "#my_solution\n",
    "def get_customer_ordrs(ordrs, customer_id):\n",
    "    #print(customer_id) \n",
    "    filtered_orders = []  \n",
    "    for order in ordrs:\n",
    "        #print('here----> ' + str(order.split(',')[2]))\n",
    "        if int(order.split(',')[2]) == int(customer_id):\n",
    "            #print('here')\n",
    "            filtered_orders.append(order) \n",
    "    return filtered_orders"
   ]
  },
  {
   "cell_type": "code",
   "execution_count": 113,
   "metadata": {},
   "outputs": [
    {
     "data": {
      "text/plain": [
       "['2838,2013-08-10 00:00:00.0,9337,PENDING',\n",
       " '4020,2013-08-17 00:00:00.0,9337,COMPLETE',\n",
       " '28474,2014-01-16 00:00:00.0,9337,PENDING_PAYMENT',\n",
       " '29248,2014-01-21 00:00:00.0,9337,COMPLETE',\n",
       " '33243,2014-02-15 00:00:00.0,9337,COMPLETE',\n",
       " '48049,2014-05-18 00:00:00.0,9337,COMPLETE',\n",
       " '48330,2014-05-20 00:00:00.0,9337,COMPLETE',\n",
       " '48535,2014-05-21 00:00:00.0,9337,COMPLETE',\n",
       " '48941,2014-05-25 00:00:00.0,9337,COMPLETE',\n",
       " '53046,2014-06-24 00:00:00.0,9337,COMPLETE',\n",
       " '56966,2014-07-20 00:00:00.0,9337,COMPLETE',\n",
       " '65184,2014-05-03 00:00:00.0,9337,COMPLETE']"
      ]
     },
     "execution_count": 113,
     "metadata": {},
     "output_type": "execute_result"
    }
   ],
   "source": [
    "get_customer_ordrs(orders, 9337)"
   ]
  },
  {
   "cell_type": "code",
   "execution_count": 11,
   "metadata": {},
   "outputs": [],
   "source": [
    "#Durga's Code\n",
    "def get_customer_orders(orders, customer_id):\n",
    "    orders_filtered = []\n",
    "    for order in orders:\n",
    "        if int(order.split(',')[2]) == customer_id:\n",
    "            orders_filtered.append(order)\n",
    "    return orders_filtered"
   ]
  },
  {
   "cell_type": "markdown",
   "metadata": {},
   "source": [
    "* Use the function and get all the orders which are placed by customer with id 12431"
   ]
  },
  {
   "cell_type": "code",
   "execution_count": 12,
   "metadata": {},
   "outputs": [
    {
     "data": {
      "text/plain": [
       "['1,2013-07-25 00:00:00.0,11599,CLOSED',\n",
       " '11397,2013-10-03 00:00:00.0,11599,COMPLETE',\n",
       " '23908,2013-12-20 00:00:00.0,11599,COMPLETE',\n",
       " '53545,2014-06-27 00:00:00.0,11599,PENDING',\n",
       " '59911,2013-10-17 00:00:00.0,11599,PROCESSING']"
      ]
     },
     "execution_count": 12,
     "metadata": {},
     "output_type": "execute_result"
    }
   ],
   "source": [
    "get_customer_orders(orders, 11599)"
   ]
  },
  {
   "cell_type": "markdown",
   "metadata": {},
   "source": [
    "* Create a function by name **get_customer_orders_for_month** which take **orders list, customer_id and month in the format YYYY-MM** as arguments and **return all the orders placed by customer_id for a given month** ."
   ]
  },
  {
   "cell_type": "code",
   "execution_count": 13,
   "metadata": {},
   "outputs": [],
   "source": [
    "order = '3,2013-07-25 00:00:00.0,12111,COMPLETE'"
   ]
  },
  {
   "cell_type": "code",
   "execution_count": 14,
   "metadata": {},
   "outputs": [
    {
     "data": {
      "text/plain": [
       "True"
      ]
     },
     "execution_count": 14,
     "metadata": {},
     "output_type": "execute_result"
    }
   ],
   "source": [
    "int(order.split(',')[2]) == 12111"
   ]
  },
  {
   "cell_type": "code",
   "execution_count": 15,
   "metadata": {},
   "outputs": [
    {
     "data": {
      "text/plain": [
       "True"
      ]
     },
     "execution_count": 15,
     "metadata": {},
     "output_type": "execute_result"
    }
   ],
   "source": [
    "order.split(',')[1].startswith('2013-07')"
   ]
  },
  {
   "cell_type": "code",
   "execution_count": 16,
   "metadata": {},
   "outputs": [
    {
     "data": {
      "text/plain": [
       "False"
      ]
     },
     "execution_count": 16,
     "metadata": {},
     "output_type": "execute_result"
    }
   ],
   "source": [
    "order.split(',')[2].startswith('0')"
   ]
  },
  {
   "cell_type": "code",
   "execution_count": 17,
   "metadata": {},
   "outputs": [
    {
     "data": {
      "text/plain": [
       "'07'"
      ]
     },
     "execution_count": 17,
     "metadata": {},
     "output_type": "execute_result"
    }
   ],
   "source": [
    "s = str(order.split(',')[1].split(' ')[0].split('-')[1])\n",
    "s"
   ]
  },
  {
   "cell_type": "code",
   "execution_count": 18,
   "metadata": {},
   "outputs": [],
   "source": [
    "#my_solution\n",
    "def get_customer_orders_for_month(orders, customer_id, month):\n",
    "    orders_resultset = []\n",
    "    for order in orders:\n",
    "        order_elements = order.split(',')\n",
    "        #print(str(order_elements[2]) + \" \" + str(order.split(',')[1].split(' ')[0].split('-')[1]))\n",
    "        if int(order_elements[2]) == customer_id \\\n",
    "        and int(order_elements[1].split(' ')[0].split('-')[0]) == int(month.split('-')[0]) \\\n",
    "        and int(order_elements[1].split(' ')[0].split('-')[1]) == int(month.split('-')[1]):\n",
    "            orders_resultset.append(order)\n",
    "    return orders_resultset"
   ]
  },
  {
   "cell_type": "code",
   "execution_count": 19,
   "metadata": {},
   "outputs": [
    {
     "data": {
      "text/plain": [
       "['27585,2014-01-12 00:00:00.0,12431,PROCESSING',\n",
       " '28244,2014-01-15 00:00:00.0,12431,PENDING_PAYMENT',\n",
       " '29109,2014-01-21 00:00:00.0,12431,ON_HOLD',\n",
       " '29232,2014-01-21 00:00:00.0,12431,ON_HOLD']"
      ]
     },
     "execution_count": 19,
     "metadata": {},
     "output_type": "execute_result"
    }
   ],
   "source": [
    "get_customer_orders_for_month(orders, 12431, '2014-01')"
   ]
  },
  {
   "cell_type": "code",
   "execution_count": 20,
   "metadata": {},
   "outputs": [
    {
     "data": {
      "text/plain": [
       "False"
      ]
     },
     "execution_count": 20,
     "metadata": {},
     "output_type": "execute_result"
    }
   ],
   "source": [
    "int(order.split(',')[2]) == 12431 and order.split(',')[1].startswith('2014-01')"
   ]
  },
  {
   "cell_type": "code",
   "execution_count": 21,
   "metadata": {},
   "outputs": [],
   "source": [
    "#Durga's Code\n",
    "def get_customer_orders_for_month(orders, customer_id, order_month):\n",
    "    orders_filtered = []\n",
    "    for order in orders:\n",
    "        order_elements = order.split(',')\n",
    "        if int(order_elements[2]) == customer_id and order_elements[1].startswith(order_month):\n",
    "            orders_filtered.append(order)\n",
    "    return orders_filtered"
   ]
  },
  {
   "cell_type": "markdown",
   "metadata": {},
   "source": [
    "* Use the function and get all the orders which are placed by customer with id 12431 in January 2014"
   ]
  },
  {
   "cell_type": "code",
   "execution_count": 22,
   "metadata": {},
   "outputs": [
    {
     "data": {
      "text/plain": [
       "['3,2013-07-25 00:00:00.0,12111,COMPLETE']"
      ]
     },
     "execution_count": 22,
     "metadata": {},
     "output_type": "execute_result"
    }
   ],
   "source": [
    "get_customer_orders_for_month(orders, 12111, '2013-07')"
   ]
  },
  {
   "cell_type": "markdown",
   "metadata": {},
   "source": [
    "* Write ad hoc code to get all the orders which are placed by customer with id 12431 in January 2014 and status is in PENDING_PAYMENT or PROCESSING"
   ]
  },
  {
   "cell_type": "code",
   "execution_count": 23,
   "metadata": {},
   "outputs": [
    {
     "name": "stdout",
     "output_type": "stream",
     "text": [
      "27585,2014-01-12 00:00:00.0,12431,PROCESSING\n",
      "28244,2014-01-15 00:00:00.0,12431,PENDING_PAYMENT\n"
     ]
    }
   ],
   "source": [
    "#Durga's Code\n",
    "for order in orders:\n",
    "    order_elements = order.split(',')\n",
    "    if int(order_elements[2]) == 12431 \\\n",
    "        and order_elements[1].startswith('2014-01') \\\n",
    "        and (order_elements[3] in ('PROCESSING', 'PENDING_PAYMENT')):\n",
    "        print(order)"
   ]
  },
  {
   "cell_type": "markdown",
   "metadata": {},
   "source": [
    "## Performing Aggregations\n",
    "\n",
    "Let us perform few tasks to understand how to perform aggregations by key over the data in collections using loops and conditionals.\n",
    "* Here are the details about orders.\n",
    "  * Data is in text file format\n",
    "  * Each line in the file contains one record.\n",
    "  * Each record contains 4 attributes which are separated by “,”\n",
    "    * order_id\n",
    "    * order_date\n",
    "    * order_customer_id\n",
    "    * order_status\n",
    "* Here are the details about order_items.\n",
    "  * Data is in text file format\n",
    "  * Each line in the file contains one record.\n",
    "  * Each record contains 6 attributes which are separated by “,”\n",
    "    * order_item_id\n",
    "    * order_item_order_id\n",
    "    * order_item_product_id\n",
    "    * order_item_quantity\n",
    "    * order_item_subtotal\n",
    "    * order_item_product_price\n",
    "* Create a function get_count_by_order_status which takes orders list as argument and returns a dict which contain order_status and corresponding count.\n"
   ]
  },
  {
   "cell_type": "code",
   "execution_count": 24,
   "metadata": {},
   "outputs": [],
   "source": [
    "#my_solution\n",
    "def get_count_by_order_status(orders):\n",
    "    order_stat_cntt = {}\n",
    "    for order in orders:\n",
    "        #print(order.split(',')[3])\n",
    "        order_status = order.split(',')[3]\n",
    "        #checking if key with this status exists in dict\n",
    "        if order_status in order_stat_cntt:\n",
    "            order_stat_cntt[order_status] += 1\n",
    "        else:\n",
    "            order_stat_cntt[order_status] = 1\n",
    "    return order_stat_cntt"
   ]
  },
  {
   "cell_type": "code",
   "execution_count": 25,
   "metadata": {},
   "outputs": [
    {
     "data": {
      "text/plain": [
       "{'CLOSED': 4,\n",
       " 'PENDING_PAYMENT': 6,\n",
       " 'COMPLETE': 6,\n",
       " 'PROCESSING': 3,\n",
       " 'PAYMENT_REVIEW': 1}"
      ]
     },
     "execution_count": 25,
     "metadata": {},
     "output_type": "execute_result"
    }
   ],
   "source": [
    "get_count_by_order_status(orders[:20])"
   ]
  },
  {
   "cell_type": "code",
   "execution_count": 26,
   "metadata": {},
   "outputs": [
    {
     "data": {
      "text/plain": [
       "{'CLOSED': 7556,\n",
       " 'PENDING_PAYMENT': 15030,\n",
       " 'COMPLETE': 22899,\n",
       " 'PROCESSING': 8275,\n",
       " 'PAYMENT_REVIEW': 729,\n",
       " 'PENDING': 7610,\n",
       " 'ON_HOLD': 3798,\n",
       " 'CANCELED': 1428,\n",
       " 'SUSPECTED_FRAUD': 1558}"
      ]
     },
     "execution_count": 26,
     "metadata": {},
     "output_type": "execute_result"
    }
   ],
   "source": [
    "get_count_by_order_status(orders)"
   ]
  },
  {
   "cell_type": "code",
   "execution_count": 27,
   "metadata": {},
   "outputs": [],
   "source": [
    "d = {}\n",
    "\n",
    "d['CLOSED'] = 1"
   ]
  },
  {
   "cell_type": "code",
   "execution_count": 28,
   "metadata": {},
   "outputs": [
    {
     "data": {
      "text/plain": [
       "{'CLOSED': 1}"
      ]
     },
     "execution_count": 28,
     "metadata": {},
     "output_type": "execute_result"
    }
   ],
   "source": [
    "d"
   ]
  },
  {
   "cell_type": "code",
   "execution_count": 29,
   "metadata": {},
   "outputs": [],
   "source": [
    "d['CLOSED'] = 2"
   ]
  },
  {
   "cell_type": "code",
   "execution_count": 30,
   "metadata": {},
   "outputs": [
    {
     "data": {
      "text/plain": [
       "{'CLOSED': 2}"
      ]
     },
     "execution_count": 30,
     "metadata": {},
     "output_type": "execute_result"
    }
   ],
   "source": [
    "d"
   ]
  },
  {
   "cell_type": "code",
   "execution_count": 31,
   "metadata": {},
   "outputs": [],
   "source": [
    "d = {}"
   ]
  },
  {
   "cell_type": "code",
   "execution_count": 32,
   "metadata": {},
   "outputs": [],
   "source": [
    "if 'CLOSED' in d: d['CLOSED'] = d['CLOSED'] + 1\n",
    "else: d['CLOSED'] = 1"
   ]
  },
  {
   "cell_type": "code",
   "execution_count": 33,
   "metadata": {},
   "outputs": [
    {
     "data": {
      "text/plain": [
       "{'CLOSED': 1}"
      ]
     },
     "execution_count": 33,
     "metadata": {},
     "output_type": "execute_result"
    }
   ],
   "source": [
    "d"
   ]
  },
  {
   "cell_type": "code",
   "execution_count": 34,
   "metadata": {},
   "outputs": [
    {
     "data": {
      "text/plain": [
       "1"
      ]
     },
     "execution_count": 34,
     "metadata": {},
     "output_type": "execute_result"
    }
   ],
   "source": [
    "d['CLOSED']"
   ]
  },
  {
   "cell_type": "code",
   "execution_count": 35,
   "metadata": {},
   "outputs": [],
   "source": [
    "#Durga's Code\n",
    "def get_count_by_order_status(orders):\n",
    "    order_count = {}\n",
    "    for order in orders:\n",
    "        order_status = order.split(',')[3]\n",
    "        if order_status in order_count: order_count[order_status] += 1\n",
    "        else: order_count[order_status] = 1\n",
    "    return order_count"
   ]
  },
  {
   "cell_type": "markdown",
   "metadata": {},
   "source": [
    "* Use the function to get count by status and preview the output."
   ]
  },
  {
   "cell_type": "code",
   "execution_count": 36,
   "metadata": {},
   "outputs": [
    {
     "data": {
      "text/plain": [
       "{'CLOSED': 7556,\n",
       " 'PENDING_PAYMENT': 15030,\n",
       " 'COMPLETE': 22899,\n",
       " 'PROCESSING': 8275,\n",
       " 'PAYMENT_REVIEW': 729,\n",
       " 'PENDING': 7610,\n",
       " 'ON_HOLD': 3798,\n",
       " 'CANCELED': 1428,\n",
       " 'SUSPECTED_FRAUD': 1558}"
      ]
     },
     "execution_count": 36,
     "metadata": {},
     "output_type": "execute_result"
    }
   ],
   "source": [
    "get_count_by_order_status(orders)"
   ]
  },
  {
   "cell_type": "markdown",
   "metadata": {},
   "source": [
    "* Use the function to get revenue for each order_item_order_id and preview the output.\n",
    "* Create a function get_revenue_per_order which takes order_items list as argument and returns a dict which contain order_item_order_id and corresponding order_revenue.\n",
    " * Each record contains 6 attributes which are separated by “,”\n",
    "    * order_item_id\n",
    "    * order_item_order_id\n",
    "    * order_item_product_id\n",
    "    * order_item_quantity\n",
    "    * order_item_subtotal\n",
    "    * order_item_product_price"
   ]
  },
  {
   "cell_type": "code",
   "execution_count": 37,
   "metadata": {},
   "outputs": [],
   "source": [
    "order_items_file = open('/Users/monikamendiratta/data/retail_db/order_items/part-00000')"
   ]
  },
  {
   "cell_type": "code",
   "execution_count": 38,
   "metadata": {},
   "outputs": [],
   "source": [
    "order_items_raw = order_items_file.read()"
   ]
  },
  {
   "cell_type": "code",
   "execution_count": 39,
   "metadata": {},
   "outputs": [],
   "source": [
    "order_items = order_items_raw.splitlines()"
   ]
  },
  {
   "cell_type": "code",
   "execution_count": 40,
   "metadata": {},
   "outputs": [
    {
     "data": {
      "text/plain": [
       "['1,1,957,1,299.98,299.98',\n",
       " '2,2,1073,1,199.99,199.99',\n",
       " '3,2,502,5,250.0,50.0',\n",
       " '4,2,403,1,129.99,129.99',\n",
       " '5,4,897,2,49.98,24.99',\n",
       " '6,4,365,5,299.95,59.99',\n",
       " '7,4,502,3,150.0,50.0',\n",
       " '8,4,1014,4,199.92,49.98',\n",
       " '9,5,957,1,299.98,299.98',\n",
       " '10,5,365,5,299.95,59.99']"
      ]
     },
     "execution_count": 40,
     "metadata": {},
     "output_type": "execute_result"
    }
   ],
   "source": [
    "order_items[:10]"
   ]
  },
  {
   "cell_type": "code",
   "execution_count": 41,
   "metadata": {},
   "outputs": [],
   "source": [
    "#my solution\n",
    "def get_revenue_per_order(order_items):\n",
    "    order_revenue = {}\n",
    "    for order in order_items:\n",
    "        #print(order.split(',')[1])\n",
    "        order_elements = order.split(',')\n",
    "        order_item = int(order_elements[1])\n",
    "        order_subtotal = float(order_elements[4])\n",
    "        #print(str(order_item) +\" \"+ str(order_subtotal))\n",
    "        if order_item in order_revenue:\n",
    "            order_revenue[order_item] += order_subtotal\n",
    "        else:\n",
    "            order_revenue[order_item] = order_subtotal\n",
    "    return order_revenue"
   ]
  },
  {
   "cell_type": "code",
   "execution_count": null,
   "metadata": {},
   "outputs": [],
   "source": [
    "get_revenue_per_order(order_items)"
   ]
  },
  {
   "cell_type": "code",
   "execution_count": 43,
   "metadata": {},
   "outputs": [
    {
     "ename": "TypeError",
     "evalue": "'dict_items' object is not subscriptable",
     "output_type": "error",
     "traceback": [
      "\u001b[0;31m---------------------------------------------------------------------------\u001b[0m",
      "\u001b[0;31mTypeError\u001b[0m                                 Traceback (most recent call last)",
      "\u001b[0;32m<ipython-input-43-d15a5129ba5f>\u001b[0m in \u001b[0;36m<module>\u001b[0;34m\u001b[0m\n\u001b[1;32m      1\u001b[0m \u001b[0;31m#throws error that 'dict_items' object is not subscriptable\u001b[0m\u001b[0;34m\u001b[0m\u001b[0;34m\u001b[0m\u001b[0;34m\u001b[0m\u001b[0m\n\u001b[0;32m----> 2\u001b[0;31m \u001b[0mget_revenue_per_order\u001b[0m\u001b[0;34m(\u001b[0m\u001b[0morder_items\u001b[0m\u001b[0;34m)\u001b[0m\u001b[0;34m.\u001b[0m\u001b[0mitems\u001b[0m\u001b[0;34m(\u001b[0m\u001b[0;34m)\u001b[0m\u001b[0;34m[\u001b[0m\u001b[0;34m:\u001b[0m\u001b[0;36m10\u001b[0m\u001b[0;34m]\u001b[0m\u001b[0;34m\u001b[0m\u001b[0;34m\u001b[0m\u001b[0m\n\u001b[0m",
      "\u001b[0;31mTypeError\u001b[0m: 'dict_items' object is not subscriptable"
     ]
    }
   ],
   "source": [
    "#throws error that 'dict_items' object is not subscriptable\n",
    "get_revenue_per_order(order_items).items()[:10]"
   ]
  },
  {
   "cell_type": "code",
   "execution_count": 44,
   "metadata": {},
   "outputs": [
    {
     "data": {
      "text/plain": [
       "[(1, 299.98),\n",
       " (2, 579.98),\n",
       " (4, 699.85),\n",
       " (5, 1129.8600000000001),\n",
       " (7, 579.9200000000001),\n",
       " (8, 729.8399999999999),\n",
       " (9, 599.96),\n",
       " (10, 651.9200000000001),\n",
       " (11, 919.79),\n",
       " (12, 1299.8700000000001)]"
      ]
     },
     "execution_count": 44,
     "metadata": {},
     "output_type": "execute_result"
    }
   ],
   "source": [
    "#to print only 10 items from the returned dict need to access all of it's items and then put them in the list and show only 10 items\n",
    "# by subscripting the list as lists can be subscripted but dict cannot.\n",
    "\n",
    "#converting dict items to list\n",
    "\n",
    "list(get_revenue_per_order(order_items).items())[:10]"
   ]
  },
  {
   "cell_type": "code",
   "execution_count": 45,
   "metadata": {
    "jupyter": {
     "source_hidden": true
    }
   },
   "outputs": [],
   "source": [
    "#Durga's Code\n",
    "def get_revenue_per_order(order_items):\n",
    "    revenue_per_order = {}\n",
    "    for order_item in order_items:\n",
    "        order_item_order_id = int(order_item.split(',')[1])\n",
    "        order_item_subtotal = float(order_item.split(',')[4])\n",
    "        if revenue_per_order.get(order_item_order_id):\n",
    "            revenue_per_order[order_item_order_id] += order_item_subtotal\n",
    "        else:\n",
    "            revenue_per_order[order_item_order_id] = order_item_subtotal\n",
    "    return revenue_per_order"
   ]
  },
  {
   "cell_type": "markdown",
   "metadata": {},
   "source": [
    "* Use the function to get revenue for each order_item_order_id and preview the output."
   ]
  },
  {
   "cell_type": "code",
   "execution_count": 46,
   "metadata": {},
   "outputs": [],
   "source": [
    "order_items_path = '/Users/monikamendiratta/data/retail_db/order_items/part-00000'\n",
    "order_items = open(order_items_path). \\\n",
    "    read(). \\\n",
    "    splitlines()"
   ]
  },
  {
   "cell_type": "code",
   "execution_count": 47,
   "metadata": {},
   "outputs": [
    {
     "name": "stdout",
     "output_type": "stream",
     "text": [
      "1,1,957,1,299.98,299.98\n",
      "2,2,1073,1,199.99,199.99\n",
      "3,2,502,5,250.0,50.0\n",
      "4,2,403,1,129.99,129.99\n",
      "5,4,897,2,49.98,24.99\n",
      "6,4,365,5,299.95,59.99\n",
      "7,4,502,3,150.0,50.0\n",
      "8,4,1014,4,199.92,49.98\n",
      "9,5,957,1,299.98,299.98\n",
      "10,5,365,5,299.95,59.99\n"
     ]
    }
   ],
   "source": [
    "for i in order_items[:10]:\n",
    "    print(i)"
   ]
  },
  {
   "cell_type": "code",
   "execution_count": 48,
   "metadata": {},
   "outputs": [
    {
     "data": {
      "text/plain": [
       "[(1, 299.98),\n",
       " (2, 579.98),\n",
       " (4, 699.85),\n",
       " (5, 1129.8600000000001),\n",
       " (7, 579.9200000000001),\n",
       " (8, 729.8399999999999),\n",
       " (9, 599.96),\n",
       " (10, 651.9200000000001),\n",
       " (11, 919.79),\n",
       " (12, 1299.8700000000001)]"
      ]
     },
     "execution_count": 48,
     "metadata": {},
     "output_type": "execute_result"
    }
   ],
   "source": [
    "list(get_revenue_per_order(order_items).items())[:10]"
   ]
  },
  {
   "cell_type": "markdown",
   "metadata": {},
   "source": [
    "* Create a function get_order_count_by_month which takes orders list and order_status as arguments and returns a dict which contain order_month and count. We only have to count those orders which belong to the passed order_status"
   ]
  },
  {
   "cell_type": "code",
   "execution_count": 49,
   "metadata": {},
   "outputs": [
    {
     "data": {
      "text/plain": [
       "['1,2013-07-25 00:00:00.0,11599,CLOSED',\n",
       " '2,2013-07-25 00:00:00.0,256,PENDING_PAYMENT',\n",
       " '3,2013-07-25 00:00:00.0,12111,COMPLETE',\n",
       " '4,2013-07-25 00:00:00.0,8827,CLOSED',\n",
       " '5,2013-07-25 00:00:00.0,11318,COMPLETE']"
      ]
     },
     "execution_count": 49,
     "metadata": {},
     "output_type": "execute_result"
    }
   ],
   "source": [
    "orders[:5]"
   ]
  },
  {
   "cell_type": "code",
   "execution_count": 50,
   "metadata": {},
   "outputs": [],
   "source": [
    "#my solution\n",
    "def get_order_count_by_month(orders_list, order_status):\n",
    "    order_monthly_count = {}\n",
    "    for order in orders_list:\n",
    "        order_elements = order.split(',')\n",
    "        order_date = order_elements[1].split(' ')[0]\n",
    "        order_year = order_date.split('-')[0]\n",
    "        order_month = order_date.split('-')[1]\n",
    "        order_yyyymm = str(order_year) + '/' + str(order_month)\n",
    "        #print('yyyy mm -> '+ order_yyyymm)\n",
    "        if order_elements[3] == order_status:\n",
    "            if order_yyyymm in order_monthly_count:\n",
    "                order_monthly_count[order_yyyymm] += 1\n",
    "            else:\n",
    "                order_monthly_count[order_yyyymm] = 1\n",
    "    return order_monthly_count\n",
    "        "
   ]
  },
  {
   "cell_type": "code",
   "execution_count": 51,
   "metadata": {},
   "outputs": [
    {
     "data": {
      "text/plain": [
       "{'2013/07': 161,\n",
       " '2013/08': 637,\n",
       " '2013/09': 676,\n",
       " '2013/10': 609,\n",
       " '2013/11': 686,\n",
       " '2013/12': 705,\n",
       " '2014/01': 633,\n",
       " '2014/02': 602,\n",
       " '2014/03': 612,\n",
       " '2014/04': 583,\n",
       " '2014/05': 585,\n",
       " '2014/06': 563,\n",
       " '2014/07': 504}"
      ]
     },
     "execution_count": 51,
     "metadata": {},
     "output_type": "execute_result"
    }
   ],
   "source": [
    "get_order_count_by_month(orders, 'CLOSED')"
   ]
  },
  {
   "cell_type": "code",
   "execution_count": null,
   "metadata": {},
   "outputs": [],
   "source": []
  },
  {
   "cell_type": "code",
   "execution_count": 52,
   "metadata": {},
   "outputs": [],
   "source": [
    "#Durga's Code\n",
    "def get_order_count_by_month(orders, order_status):\n",
    "    order_count = {}\n",
    "    for order in orders:\n",
    "        order_month = order.split(',')[1][:7]\n",
    "        l_order_status = order.split(',')[3]\n",
    "        if l_order_status == order_status:\n",
    "            if order_month in order_count: order_count[order_month] += 1\n",
    "            else: order_count[order_month] = 1\n",
    "    return order_count"
   ]
  },
  {
   "cell_type": "markdown",
   "metadata": {},
   "source": [
    "* Use the function to get count for each order_date and preview the output. We need to pass the status also as an argument."
   ]
  },
  {
   "cell_type": "code",
   "execution_count": 53,
   "metadata": {},
   "outputs": [
    {
     "data": {
      "text/plain": [
       "{'2013-07': 161,\n",
       " '2013-08': 637,\n",
       " '2013-09': 676,\n",
       " '2013-10': 609,\n",
       " '2013-11': 686,\n",
       " '2013-12': 705,\n",
       " '2014-01': 633,\n",
       " '2014-02': 602,\n",
       " '2014-03': 612,\n",
       " '2014-04': 583,\n",
       " '2014-05': 585,\n",
       " '2014-06': 563,\n",
       " '2014-07': 504}"
      ]
     },
     "execution_count": 53,
     "metadata": {},
     "output_type": "execute_result"
    }
   ],
   "source": [
    "get_order_count_by_month(orders, 'CLOSED')"
   ]
  },
  {
   "cell_type": "markdown",
   "metadata": {},
   "source": [
    "## Joining Data Sets\n",
    "\n",
    "Let us perform few tasks to understand how to perform  joins over multiple collections using loops and conditionals.\n",
    "* There are different strategies for joins in Oracle.\n",
    "  * Nested Loops\n",
    "  * Sort Merge\n",
    "  * Hash Join\n",
    "* We will be replicating Oracle's Nested Loops approach using orders and order_items.\n",
    "  * Build dict for one data set - orders.\n",
    "  * Iteratively lookup into the orders data set while processing the other one  - order_items\n",
    "* Develop a function get_daily_revenue which takes orders, order_items and order_status as arguments and return dict containing order_date and order_revenue. We need to get revenue considering only those orders which satisfy the status passed."
   ]
  },
  {
   "cell_type": "code",
   "execution_count": 194,
   "metadata": {},
   "outputs": [],
   "source": [
    "def get_orders_dict(orders, order_status):\n",
    "    orders_dict = {}\n",
    "    for order in orders:\n",
    "        order_id = int(order.split(',')[0])\n",
    "        order_date = order.split(',')[1]\n",
    "        l_order_status = order.split(',')[3]\n",
    "        if l_order_status == order_status:\n",
    "            orders_dict[order_id] = order_date\n",
    "    return orders_dict   "
   ]
  },
  {
   "cell_type": "code",
   "execution_count": 195,
   "metadata": {},
   "outputs": [
    {
     "data": {
      "text/plain": [
       "22899"
      ]
     },
     "execution_count": 195,
     "metadata": {},
     "output_type": "execute_result"
    }
   ],
   "source": [
    "len(get_orders_dict(orders, 'COMPLETE'))"
   ]
  },
  {
   "cell_type": "code",
   "execution_count": 196,
   "metadata": {},
   "outputs": [],
   "source": [
    "#collections orders and order_items\n",
    "def get_daily_revenue(orders, order_items, order_status):\n",
    "    orders_dict = get_orders_dict(orders, order_status)\n",
    "    daily_revenue = {}\n",
    "    for order_item in order_items:\n",
    "        order_item_order_id = int(order_item.split(',')[1])\n",
    "        order_item_subtotal = float(order_item.split(',')[4])\n",
    "        \n",
    "        if order_item_order_id in orders_dict:\n",
    "            orders_dict_date = orders_dict[order_item_order_id]\n",
    "            if orders_dict_date in daily_revenue:\n",
    "                daily_revenue[orders_dict_date] = round(daily_revenue[orders_dict_date] + order_item_subtotal, 2)\n",
    "            else:\n",
    "                daily_revenue[orders_dict_date] = order_item_subtotal\n",
    "    return daily_revenue"
   ]
  },
  {
   "cell_type": "markdown",
   "metadata": {},
   "source": [
    "* Use the function to get daily revenue considering only COMPLETE orders."
   ]
  },
  {
   "cell_type": "code",
   "execution_count": null,
   "metadata": {},
   "outputs": [],
   "source": [
    "get_daily_revenue(orders, order_items, 'COMPLETE')"
   ]
  },
  {
   "cell_type": "markdown",
   "metadata": {},
   "source": [
    "## Exercises\n",
    "Here are some of the exercises you can work on to process collection using conventional loops and conditionals. Create functions for each of the below problem statement."
   ]
  },
  {
   "cell_type": "markdown",
   "metadata": {},
   "source": [
    "* Get number of COMPLETE orders placed by each customer"
   ]
  },
  {
   "cell_type": "code",
   "execution_count": 58,
   "metadata": {},
   "outputs": [
    {
     "data": {
      "text/plain": [
       "['1,2013-07-25 00:00:00.0,11599,CLOSED',\n",
       " '2,2013-07-25 00:00:00.0,256,PENDING_PAYMENT',\n",
       " '3,2013-07-25 00:00:00.0,12111,COMPLETE',\n",
       " '4,2013-07-25 00:00:00.0,8827,CLOSED',\n",
       " '5,2013-07-25 00:00:00.0,11318,COMPLETE',\n",
       " '6,2013-07-25 00:00:00.0,7130,COMPLETE',\n",
       " '7,2013-07-25 00:00:00.0,4530,COMPLETE',\n",
       " '8,2013-07-25 00:00:00.0,2911,PROCESSING',\n",
       " '9,2013-07-25 00:00:00.0,5657,PENDING_PAYMENT',\n",
       " '10,2013-07-25 00:00:00.0,5648,PENDING_PAYMENT']"
      ]
     },
     "execution_count": 58,
     "metadata": {},
     "output_type": "execute_result"
    }
   ],
   "source": [
    "orders[:10]"
   ]
  },
  {
   "cell_type": "code",
   "execution_count": 106,
   "metadata": {},
   "outputs": [],
   "source": [
    "#my_solution\n",
    "def get_order_count_by_cust(orders, order_status):\n",
    "    order_count = {}\n",
    "    for order in orders:\n",
    "        order_elements = order.split(',')\n",
    "        order_cust_id = order_elements[2]\n",
    "        if order_elements[3] == order_status:\n",
    "            if order_cust_id in order_count:\n",
    "                order_count[order_cust_id] += 1\n",
    "            else:\n",
    "                order_count[order_cust_id] = 1\n",
    "    return order_count"
   ]
  },
  {
   "cell_type": "code",
   "execution_count": 107,
   "metadata": {},
   "outputs": [],
   "source": [
    "completed_order_count = list(get_order_count_by_cust(orders, 'COMPLETE').items())"
   ]
  },
  {
   "cell_type": "code",
   "execution_count": 268,
   "metadata": {},
   "outputs": [
    {
     "data": {
      "text/plain": [
       "[('9337', 10),\n",
       " ('7802', 9),\n",
       " ('749', 9),\n",
       " ('3710', 9),\n",
       " ('5283', 8),\n",
       " ('221', 8),\n",
       " ('5186', 8),\n",
       " ('2469', 8),\n",
       " ('11061', 8),\n",
       " ('7910', 8)]"
      ]
     },
     "execution_count": 268,
     "metadata": {},
     "output_type": "execute_result"
    }
   ],
   "source": [
    "completed_order_count[:10]"
   ]
  },
  {
   "cell_type": "code",
   "execution_count": null,
   "metadata": {},
   "outputs": [],
   "source": [
    "sorted(completed_order_count, key=lambda t: t[0])[:10]"
   ]
  },
  {
   "cell_type": "code",
   "execution_count": 110,
   "metadata": {},
   "outputs": [],
   "source": [
    "completed_order_count.sort(key=lambda t :t[1], reverse=True)"
   ]
  },
  {
   "cell_type": "code",
   "execution_count": null,
   "metadata": {},
   "outputs": [],
   "source": [
    "completed_order_count[:10]"
   ]
  },
  {
   "cell_type": "markdown",
   "metadata": {},
   "source": [
    "* Get total number of PENDING or PENDING_PAYMENT orders for the month of 2014 January."
   ]
  },
  {
   "cell_type": "code",
   "execution_count": 180,
   "metadata": {},
   "outputs": [
    {
     "name": "stdout",
     "output_type": "stream",
     "text": [
      "here\n"
     ]
    }
   ],
   "source": [
    "l_order_status_list = ['PENDING', 'PENDING_PAYMENT']\n",
    "if 'PENDING' in l_order_status_list:\n",
    "    print('here')\n",
    "else:\n",
    "    print('not here')"
   ]
  },
  {
   "cell_type": "code",
   "execution_count": 183,
   "metadata": {},
   "outputs": [],
   "source": [
    "#my_solution\n",
    "def get_pending_orders(orders, order_month, order_status_list):\n",
    "    order_count = {}\n",
    "    l_order_status_list = order_status_list\n",
    "    for order in orders:\n",
    "        order_elements = order.split(',')\n",
    "        if order_elements[1][:7] == order_month:\n",
    "            if order_elements[3] in l_order_status_list:\n",
    "                if order_elements[3] in order_count:\n",
    "                    order_count[order_elements[3]] += 1\n",
    "                else:\n",
    "                    order_count[order_elements[3]] = 1\n",
    "    if not order_count:#resulting dictionary is empty\n",
    "        print('NO PENDING ORDERS FOR THE MONTH OF '+order_month)\n",
    "        return\n",
    "    else:\n",
    "        return order_count"
   ]
  },
  {
   "cell_type": "code",
   "execution_count": 184,
   "metadata": {},
   "outputs": [
    {
     "data": {
      "text/plain": [
       "{'PENDING_PAYMENT': 1334, 'PENDING': 635}"
      ]
     },
     "execution_count": 184,
     "metadata": {},
     "output_type": "execute_result"
    }
   ],
   "source": [
    "get_pending_orders(orders, '2014-01', ['PENDING', 'PENDING_PAYMENT'])"
   ]
  },
  {
   "cell_type": "markdown",
   "metadata": {},
   "source": [
    "* Get outstanding amount for each month considering orders with status PAYMENT_REVIEW, PENDING, PENDING_PAYMENT and PROCESSING."
   ]
  },
  {
   "cell_type": "code",
   "execution_count": 232,
   "metadata": {},
   "outputs": [],
   "source": [
    "#my_solution\n",
    "def get_my_orders_dict(orders, order_status_list):\n",
    "    orders_dict = {}\n",
    "    l_order_status_list = order_status_list\n",
    "    for order in orders:\n",
    "        order_elements = order.split(',')\n",
    "        order_id = int(order_elements[0])\n",
    "        order_date = order_elements[1][:7]\n",
    "        if order_elements[3] in l_order_status_list:\n",
    "            orders_dict[order_id] = order_date\n",
    "    return orders_dict"
   ]
  },
  {
   "cell_type": "code",
   "execution_count": 233,
   "metadata": {},
   "outputs": [
    {
     "data": {
      "text/plain": [
       "{2: '2013-07',\n",
       " 8: '2013-07',\n",
       " 9: '2013-07',\n",
       " 10: '2013-07',\n",
       " 11: '2013-07',\n",
       " 13: '2013-07',\n",
       " 14: '2013-07',\n",
       " 16: '2013-07',\n",
       " 19: '2013-07',\n",
       " 20: '2013-07',\n",
       " 21: '2013-07',\n",
       " 23: '2013-07',\n",
       " 27: '2013-07',\n",
       " 29: '2013-07',\n",
       " 30: '2013-07'}"
      ]
     },
     "execution_count": 233,
     "metadata": {},
     "output_type": "execute_result"
    }
   ],
   "source": [
    "get_my_orders_dict(orders[:30], ['PAYMENT_REVIEW', 'PENDING', 'PENDING_PAYMENT', 'PROCESSING'])"
   ]
  },
  {
   "cell_type": "code",
   "execution_count": 207,
   "metadata": {},
   "outputs": [
    {
     "data": {
      "text/plain": [
       "['1,1,957,1,299.98,299.98',\n",
       " '2,2,1073,1,199.99,199.99',\n",
       " '3,2,502,5,250.0,50.0',\n",
       " '4,2,403,1,129.99,129.99',\n",
       " '5,4,897,2,49.98,24.99',\n",
       " '6,4,365,5,299.95,59.99',\n",
       " '7,4,502,3,150.0,50.0',\n",
       " '8,4,1014,4,199.92,49.98',\n",
       " '9,5,957,1,299.98,299.98',\n",
       " '10,5,365,5,299.95,59.99']"
      ]
     },
     "execution_count": 207,
     "metadata": {},
     "output_type": "execute_result"
    }
   ],
   "source": [
    "order_items[:10]"
   ]
  },
  {
   "cell_type": "code",
   "execution_count": null,
   "metadata": {},
   "outputs": [],
   "source": [
    "    #taking orders_dict values(order_date) in a set, to get unique months\n",
    "    orders_unique_dates = list(set(orders_dict.values()))\n",
    "    print(orders_unique_dates)"
   ]
  },
  {
   "cell_type": "code",
   "execution_count": 261,
   "metadata": {},
   "outputs": [],
   "source": [
    "#my_solution\n",
    "def get_amt_by_month(orders, order_items, order_status_list):\n",
    "    monthly_amt = {}   \n",
    "    orders_dict = get_my_orders_dict(orders, order_status_list)\n",
    "    for item in order_items:\n",
    "        oi_order_id = int(item.split(',')[1])\n",
    "        oi_order_subtotal = float(item.split(',')[4])\n",
    "        if oi_order_id in orders_dict:\n",
    "            orders_dict_date = orders_dict[oi_order_id]\n",
    "            if orders_dict_date in monthly_amt:\n",
    "                monthly_amt[orders_dict_date] = round(monthly_amt[orders_dict_date] + oi_order_subtotal, 2)\n",
    "            else:\n",
    "                monthly_amt[orders_dict_date] = round(oi_order_subtotal, 2)      \n",
    "    return monthly_amt"
   ]
  },
  {
   "cell_type": "code",
   "execution_count": 262,
   "metadata": {},
   "outputs": [],
   "source": [
    "#my_solution\n",
    "def get_outstanding_amt_by_month(orders, order_items, order_status_list):\n",
    "    monthly_outstanding_amt = {}   \n",
    "    monthly_outstanding_amt = get_amt_by_month(orders, order_items, order_status_list)\n",
    "    return monthly_outstanding_amt"
   ]
  },
  {
   "cell_type": "code",
   "execution_count": 263,
   "metadata": {},
   "outputs": [],
   "source": [
    "#my_solution\n",
    "def get_revenue_amt_by_month(orders, order_items, order_status_list):\n",
    "    monthly_outstanding_amt = {}   \n",
    "    monthly_outstanding_amt = get_amt_by_month(orders, order_items, order_status_list)\n",
    "    return monthly_outstanding_amt"
   ]
  },
  {
   "cell_type": "code",
   "execution_count": 264,
   "metadata": {},
   "outputs": [
    {
     "data": {
      "text/plain": [
       "{'2013-07': 368009.46,\n",
       " '2013-08': 1324287.4,\n",
       " '2013-09': 1332152.39,\n",
       " '2013-10': 1203740.32,\n",
       " '2013-11': 1471570.6,\n",
       " '2013-12': 1384477.89,\n",
       " '2014-01': 1395450.73,\n",
       " '2014-02': 1286723.17,\n",
       " '2014-03': 1299336.7,\n",
       " '2014-04': 1307421.42,\n",
       " '2014-05': 1262586.43,\n",
       " '2014-06': 1272693.62,\n",
       " '2014-07': 1073580.41}"
      ]
     },
     "execution_count": 264,
     "metadata": {},
     "output_type": "execute_result"
    }
   ],
   "source": [
    "get_outstanding_amt_by_month(orders, order_items, ['PAYMENT_REVIEW', 'PENDING', 'PENDING_PAYMENT', 'PROCESSING'])"
   ]
  },
  {
   "cell_type": "code",
   "execution_count": 267,
   "metadata": {},
   "outputs": [
    {
     "data": {
      "text/plain": [
       "{'2013-07': 333465.45,\n",
       " '2013-08': 1221828.9,\n",
       " '2013-09': 1302255.8,\n",
       " '2013-10': 1171686.92,\n",
       " '2013-11': 1379935.33,\n",
       " '2013-12': 1277719.6,\n",
       " '2014-01': 1230221.74,\n",
       " '2014-02': 1217770.09,\n",
       " '2014-03': 1271350.97,\n",
       " '2014-04': 1249723.52,\n",
       " '2014-05': 1221679.33,\n",
       " '2014-06': 1179754.06,\n",
       " '2014-07': 955590.77}"
      ]
     },
     "execution_count": 267,
     "metadata": {},
     "output_type": "execute_result"
    }
   ],
   "source": [
    "get_revenue_amt_by_month(orders, order_items, ['COMPLETE','CLOSED'])"
   ]
  },
  {
   "cell_type": "code",
   "execution_count": null,
   "metadata": {},
   "outputs": [],
   "source": []
  },
  {
   "cell_type": "markdown",
   "metadata": {},
   "source": [
    "## Limitations of using Loops\n",
    "\n",
    "There are several limitations using loops.\n",
    "* If you look at the above examples, most of the functions have similar logic to iterate through elements.\n",
    "* We are spending more time on coding non business logic.\n",
    "* It results in too much of code and it can become a maintenance problem.\n",
    "* Map Reduce APIs will solve these problems.\n",
    "  * We do not have to develop loops and conditionals.\n",
    "  * Loops and Conditionals are taken care by the existing APIs.\n",
    "  * We can just focus on business logic. It can be passed using Lambda Functions.\n"
   ]
  },
  {
   "cell_type": "code",
   "execution_count": null,
   "metadata": {},
   "outputs": [],
   "source": []
  }
 ],
 "metadata": {
  "kernelspec": {
   "display_name": "Python 3",
   "language": "python",
   "name": "python3"
  },
  "language_info": {
   "codemirror_mode": {
    "name": "ipython",
    "version": 3
   },
   "file_extension": ".py",
   "mimetype": "text/x-python",
   "name": "python",
   "nbconvert_exporter": "python",
   "pygments_lexer": "ipython3",
   "version": "3.7.7"
  }
 },
 "nbformat": 4,
 "nbformat_minor": 4
}
